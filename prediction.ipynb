{
 "cells": [
  {
   "cell_type": "code",
   "execution_count": null,
   "id": "c6f3807b",
   "metadata": {},
   "outputs": [],
   "source": [
    "import numpy as np\n",
    "import tensorflow as tf\n",
    "import pandas as pd\n",
    "from tensorflow.keras.preprocessing import sequence\n",
    "from tensorflow.keras.models import load_model\n",
    "import pickle\n",
    "from tensorflow.keras.preprocessing.sequence import pad_sequences"
   ]
  },
  {
   "cell_type": "code",
   "execution_count": null,
   "id": "81f76630",
   "metadata": {},
   "outputs": [],
   "source": [
    "model = tf.keras.models.load_model('simple_rnn_imdb.h5')  # Replace with your MAL model\n",
    "with open('mal_tokenizer.pkl', 'rb') as f:  # Saved during training\n",
    "    tokenizer = pickle.load(f)"
   ]
  },
  {
   "cell_type": "code",
   "execution_count": null,
   "id": "4d10885f",
   "metadata": {},
   "outputs": [],
   "source": [
    "def preprocess_text(self, text):\n",
    "        \"\"\"Convert raw text to padded sequence for the model\"\"\"\n",
    "        sequence = self.tokenizer.texts_to_sequences([text])\n",
    "        padded = pad_sequences(sequence, maxlen=self.max_len)\n",
    "        return padded"
   ]
  },
  {
   "cell_type": "code",
   "execution_count": null,
   "id": "e0a9139a",
   "metadata": {},
   "outputs": [],
   "source": [
    "def predict_sentiment(self, review):\n",
    "        \"\"\"Predict sentiment (Positive/Negative) and confidence score\"\"\"\n",
    "        padded_review = self.preprocess_text(review)\n",
    "        prediction = self.model.predict(padded_review)\n",
    "        sentiment = 'Positive' if prediction[0][0] > 0.5 else 'Negative'\n",
    "        confidence = float(prediction[0][0])\n",
    "        return sentiment, confidence"
   ]
  },
  {
   "cell_type": "code",
   "execution_count": null,
   "id": "0bd0fa00",
   "metadata": {},
   "outputs": [],
   "source": [
    "example_review = \"Attack on Titan is goated. Levi is so cool\"  # Example input\n",
    "\n",
    "sentiment, score = predict_sentiment(example_review)\n",
    "print(f\"Review: {example_review}\")\n",
    "print(f\"Sentiment: {sentiment}\")\n",
    "print(f\"prediction Score: {score:.2f}\")"
   ]
  },
  {
   "cell_type": "code",
   "execution_count": null,
   "id": "366e5e90",
   "metadata": {},
   "outputs": [],
   "source": []
  },
  {
   "cell_type": "code",
   "execution_count": null,
   "id": "85bcab30",
   "metadata": {},
   "outputs": [],
   "source": []
  }
 ],
 "metadata": {
  "kernelspec": {
   "display_name": "Python 3",
   "language": "python",
   "name": "python3"
  },
  "language_info": {
   "name": "python",
   "version": "3.11.0"
  }
 },
 "nbformat": 4,
 "nbformat_minor": 5
}
